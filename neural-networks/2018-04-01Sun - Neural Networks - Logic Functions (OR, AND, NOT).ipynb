{
 "cells": [
  {
   "cell_type": "code",
   "execution_count": 1,
   "metadata": {},
   "outputs": [],
   "source": [
    "from copy import deepcopy\n",
    "import numpy as np"
   ]
  },
  {
   "cell_type": "markdown",
   "metadata": {},
   "source": [
    "## Single Layer NN"
   ]
  },
  {
   "cell_type": "code",
   "execution_count": 2,
   "metadata": {},
   "outputs": [],
   "source": [
    "\"\"\"\n",
    "Inputs: \n",
    "    w_vec: k+1 by 1 vector of weights inputting to a particular neuron (k represents number of inputs; the additional\n",
    "    1 represents the output)\n",
    "    input_vec: k+1 by 1 vector of inputs with bias for a particular neuron\n",
    "Outputs:\n",
    "    estimated_output: Estimated activation value \n",
    "\"\"\"\n",
    "def get_estimated_output(w_vec,biased_input_vec):\n",
    "    estimated_output = np.where(w_vec.T @ biased_input_vec < 0,0,1)\n",
    "    return estimated_output"
   ]
  },
  {
   "cell_type": "code",
   "execution_count": 3,
   "metadata": {},
   "outputs": [],
   "source": [
    "\"\"\"\n",
    "Inputs: \n",
    "    w_vec: k+1 by 1 vector of weights inputting to a particular neuron (k represents number of inputs;\n",
    "    the additional 1 represents the output)\n",
    "    biased_input_vec: k+1 by 1 vector of inputs with bias for a particular neuron\n",
    "    y: target activation vector\n",
    "Outputs:\n",
    "    w_vec_new: k+1 by 1 vector of updated weights\n",
    "\"\"\"\n",
    "def update_w_vec(w_vec,biased_input_vec,output,learning_rate):\n",
    "    estimated_output = get_estimated_output(w_vec,biased_input_vec)\n",
    "    \n",
    "    w_vec_new = w_vec - learning_rate * (estimated_output - output) * biased_input_vec\n",
    "    return w_vec_new"
   ]
  },
  {
   "cell_type": "code",
   "execution_count": 4,
   "metadata": {},
   "outputs": [],
   "source": [
    "\"\"\"\n",
    "Inputs: \n",
    "    training_data: n by k+1 matrix with n training data points, k inputs and one output (last column)\n",
    "    w_vec: k+1 by 1 vector of weights\n",
    "    bias: bias value\n",
    "    learning_rate: sensitivity parameter affecting how much to change the weights\n",
    "    max_iterations: maximum number of interations to go over the training data\n",
    "Outputs:\n",
    "    w_vec_new: k+1 by 1 vector of updated weights\n",
    "    num_iteraitons: Number of iterations full training is reached\n",
    "\"\"\"\n",
    "def train_NN(training_data, w_vec, bias,learning_rate, max_iterations):\n",
    "    n = training_data.shape[0]\n",
    "    k = training_data.shape[1] - 1\n",
    "    \n",
    "    for i in range(max_iterations):\n",
    "        num_iterations = i+1\n",
    "        \n",
    "        for j in range(n):\n",
    "            temp = deepcopy(training_data[j,:])\n",
    "            biased_input_vec = temp.reshape(1,k+1).T\n",
    "            biased_input_vec[k][0] = bias\n",
    "            output = training_data[j][k]\n",
    "            w_vec_new = update_w_vec(w_vec,biased_input_vec,output,learning_rate)\n",
    "            w_vec = w_vec_new\n",
    "        \n",
    "        error_sq = 0\n",
    "        #Going over the training dataset once again to check if model is fully trained\n",
    "        for j in range(n):\n",
    "            temp = deepcopy(training_data[j,:])\n",
    "            biased_input_vec = temp.reshape(1,k+1).T\n",
    "            biased_input_vec[k][0] = bias\n",
    "            output = training_data[j][k]    \n",
    "            estimated_output = get_estimated_output(w_vec,biased_input_vec)\n",
    "            error_sq += (estimated_output - output)**2\n",
    "        \n",
    "        if error_sq == 0:\n",
    "            break\n",
    "\n",
    "    return num_iterations, w_vec_new"
   ]
  },
  {
   "cell_type": "code",
   "execution_count": 5,
   "metadata": {},
   "outputs": [
    {
     "name": "stdout",
     "output_type": "stream",
     "text": [
      "Full training achieved after  3  from a given maximum of  10 iterations\n",
      "(0,0) -->  [[0]]\n",
      "(0,1) -->  [[1]]\n",
      "(1,0) -->  [[1]]\n",
      "(1,1) -->  [[1]]\n"
     ]
    }
   ],
   "source": [
    "\"\"\"OR Neural Network\"\"\"\n",
    "training_data_OR = np.array([[0,0,0],[0,1,1],[1,0,1],[1,1,1]])\n",
    "w_vec_OR = np.array([[-0.02],[0.02],[-0.05]])\n",
    "bias_OR = -1\n",
    "learning_rate_OR = 0.25\n",
    "max_iterations_OR = 10\n",
    "\n",
    "num_iterations_OR, w_vec_OR_new = train_NN(training_data_OR, w_vec_OR, bias_OR,learning_rate_OR,max_iterations_OR)\n",
    "print(\"Full training achieved after \", num_iterations_OR, \" from a given maximum of \", \\\n",
    "                                                        max_iterations_OR, \"iterations\")\n",
    "print(\"(0,0) --> \", get_estimated_output(w_vec_OR_new,[[0],[0],[bias_OR]]))\n",
    "print(\"(0,1) --> \", get_estimated_output(w_vec_OR_new,[[0],[1],[bias_OR]]))\n",
    "print(\"(1,0) --> \", get_estimated_output(w_vec_OR_new,[[1],[0],[bias_OR]]))\n",
    "print(\"(1,1) --> \", get_estimated_output(w_vec_OR_new,[[1],[1],[bias_OR]]))"
   ]
  },
  {
   "cell_type": "code",
   "execution_count": 6,
   "metadata": {},
   "outputs": [
    {
     "name": "stdout",
     "output_type": "stream",
     "text": [
      "Full training achieved after  5  from a given maximum of  10 iterations\n",
      "(0,0) -->  [[0]]\n",
      "(0,1) -->  [[0]]\n",
      "(1,0) -->  [[0]]\n",
      "(1,1) -->  [[1]]\n"
     ]
    }
   ],
   "source": [
    "\"\"\"AND Neural Network\"\"\"\n",
    "training_data_AND = np.array([[0,0,0],[0,1,0],[1,0,0],[1,1,1]])\n",
    "w_vec_AND = np.array([[-0.02],[0.02],[-0.05]])\n",
    "bias_AND = -1\n",
    "learning_rate_AND = 0.25\n",
    "max_iterations_AND = 10\n",
    "\n",
    "num_iterations_AND, w_vec_AND_new = train_NN(training_data_AND, w_vec_AND, bias_AND,\\\n",
    "                                                learning_rate_AND,max_iterations_AND)\n",
    "print(\"Full training achieved after \", num_iterations_AND, \" from a given maximum of \", \\\n",
    "                                                        max_iterations_AND, \"iterations\")\n",
    "print(\"(0,0) --> \", get_estimated_output(w_vec_AND_new,[[0],[0],[bias_AND]]))\n",
    "print(\"(0,1) --> \", get_estimated_output(w_vec_AND_new,[[0],[1],[bias_AND]]))\n",
    "print(\"(1,0) --> \", get_estimated_output(w_vec_AND_new,[[1],[0],[bias_AND]]))\n",
    "print(\"(1,1) --> \", get_estimated_output(w_vec_AND_new,[[1],[1],[bias_AND]]))"
   ]
  },
  {
   "cell_type": "code",
   "execution_count": 7,
   "metadata": {},
   "outputs": [
    {
     "name": "stdout",
     "output_type": "stream",
     "text": [
      "Full training achieved after  2  from a given maximum of  10 iterations\n",
      "(0) -->  [[1]]\n",
      "(1) -->  [[0]]\n"
     ]
    }
   ],
   "source": [
    "\"\"\"NOT Neural Network\"\"\"\n",
    "\"\"\"AND Neural Network\"\"\"\n",
    "training_data_NOT = np.array([[0,1],[1,0]])\n",
    "w_vec_NOT = np.array([[-0.02],[0.02]])\n",
    "bias_NOT = -1\n",
    "learning_rate_NOT = 0.25\n",
    "max_iterations_NOT = 10\n",
    "\n",
    "num_iterations_NOT, w_vec_NOT_new = train_NN(training_data_NOT, w_vec_NOT, bias_NOT,learning_rate_NOT,\\\n",
    "                                             max_iterations_NOT)\n",
    "print(\"Full training achieved after \", num_iterations_NOT, \" from a given maximum of \", \\\n",
    "                                                        max_iterations_NOT, \"iterations\")\n",
    "print(\"(0) --> \", get_estimated_output(w_vec_NOT_new,[[0],[bias_NOT]]))\n",
    "print(\"(1) --> \", get_estimated_output(w_vec_NOT_new,[[1],[bias_NOT]]))"
   ]
  },
  {
   "cell_type": "code",
   "execution_count": null,
   "metadata": {},
   "outputs": [],
   "source": []
  }
 ],
 "metadata": {
  "kernelspec": {
   "display_name": "Python 3",
   "language": "python",
   "name": "python3"
  },
  "language_info": {
   "codemirror_mode": {
    "name": "ipython",
    "version": 3
   },
   "file_extension": ".py",
   "mimetype": "text/x-python",
   "name": "python",
   "nbconvert_exporter": "python",
   "pygments_lexer": "ipython3",
   "version": "3.6.4"
  }
 },
 "nbformat": 4,
 "nbformat_minor": 2
}
