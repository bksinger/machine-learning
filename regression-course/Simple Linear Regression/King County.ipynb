{
 "cells": [
  {
   "cell_type": "markdown",
   "metadata": {},
   "source": [
    "# King County"
   ]
  },
  {
   "cell_type": "code",
   "execution_count": 1,
   "metadata": {},
   "outputs": [],
   "source": [
    "import pandas as pd\n",
    "import statsmodels.api as sm\n",
    "import statsmodels.formula.api as smf"
   ]
  },
  {
   "cell_type": "code",
   "execution_count": 2,
   "metadata": {
    "collapsed": true
   },
   "outputs": [],
   "source": [
    "def get_RSS(y, input_feature, b0, b1):\n",
    "    error = y - (b0+b1*input_feature)\n",
    "    RSS = sum(map(lambda x: x*x,error))\n",
    "    return RSS"
   ]
  },
  {
   "cell_type": "code",
   "execution_count": 3,
   "metadata": {
    "collapsed": true
   },
   "outputs": [],
   "source": [
    "data_full = pd.read_csv(\"kc_house_data.csv\")\n",
    "data_test = pd.read_csv(\"kc_house_test_data.csv\")\n",
    "data_train = pd.read_csv(\"kc_house_train_data.csv\") "
   ]
  },
  {
   "cell_type": "code",
   "execution_count": 4,
   "metadata": {},
   "outputs": [],
   "source": [
    "data_test[\"bedrooms_squared\"] = data_train[\"bedrooms\"] * data_train[\"bedrooms\"]"
   ]
  },
  {
   "cell_type": "code",
   "execution_count": 5,
   "metadata": {},
   "outputs": [
    {
     "name": "stdout",
     "output_type": "stream",
     "text": [
      "                            OLS Regression Results                            \n",
      "==============================================================================\n",
      "Dep. Variable:                  price   R-squared:                       0.494\n",
      "Model:                            OLS   Adj. R-squared:                  0.494\n",
      "Method:                 Least Squares   F-statistic:                 1.698e+04\n",
      "Date:                Sun, 21 May 2017   Prob (F-statistic):               0.00\n",
      "Time:                        09:33:46   Log-Likelihood:            -2.4161e+05\n",
      "No. Observations:               17384   AIC:                         4.832e+05\n",
      "Df Residuals:                   17382   BIC:                         4.832e+05\n",
      "Df Model:                           1                                         \n",
      "Covariance Type:            nonrobust                                         \n",
      "===============================================================================\n",
      "                  coef    std err          t      P>|t|      [95.0% Conf. Int.]\n",
      "-------------------------------------------------------------------------------\n",
      "Intercept   -4.712e+04   4923.344     -9.570      0.000     -5.68e+04 -3.75e+04\n",
      "sqft_living   281.9588      2.164    130.292      0.000       277.717   286.201\n",
      "==============================================================================\n",
      "Omnibus:                    11826.248   Durbin-Watson:                   1.996\n",
      "Prob(Omnibus):                  0.000   Jarque-Bera (JB):           416980.854\n",
      "Skew:                           2.799   Prob(JB):                         0.00\n",
      "Kurtosis:                      26.331   Cond. No.                     5.62e+03\n",
      "==============================================================================\n",
      "\n",
      "Warnings:\n",
      "[1] Standard Errors assume that the covariance matrix of the errors is correctly specified.\n",
      "[2] The condition number is large, 5.62e+03. This might indicate that there are\n",
      "strong multicollinearity or other numerical problems.\n"
     ]
    }
   ],
   "source": [
    "model1 = smf.ols(\"price ~ sqft_living\", data = data_train)\n",
    "model1_results = model1.fit()\n",
    "print(model1_results.summary())"
   ]
  },
  {
   "cell_type": "code",
   "execution_count": 6,
   "metadata": {
    "collapsed": true
   },
   "outputs": [],
   "source": [
    "b0_m1 = model1_results.params[0]\n",
    "b1_m1 = model1_results.params[1]"
   ]
  },
  {
   "cell_type": "markdown",
   "metadata": {},
   "source": [
    "# Question 1"
   ]
  },
  {
   "cell_type": "code",
   "execution_count": 7,
   "metadata": {},
   "outputs": [
    {
     "name": "stdout",
     "output_type": "stream",
     "text": [
      "y =  700074.85\n"
     ]
    }
   ],
   "source": [
    "x1 = 2650\n",
    "y1 = b0_m1 + b1_m1 * x1\n",
    "print(\"y = \", \"{:.2f}\".format(y1))"
   ]
  },
  {
   "cell_type": "markdown",
   "metadata": {},
   "source": [
    "# Question 2"
   ]
  },
  {
   "cell_type": "code",
   "execution_count": 8,
   "metadata": {},
   "outputs": [
    {
     "name": "stdout",
     "output_type": "stream",
     "text": [
      "RSS =  1,201,918,354,177,286\n"
     ]
    }
   ],
   "source": [
    "RSS = \"{:,.0f}\".format(sum(map(lambda x:x*x,model1_results.resid)))\n",
    "print(\"RSS = \", RSS)"
   ]
  },
  {
   "cell_type": "markdown",
   "metadata": {},
   "source": [
    "# Question 3"
   ]
  },
  {
   "cell_type": "code",
   "execution_count": 9,
   "metadata": {},
   "outputs": [
    {
     "name": "stdout",
     "output_type": "stream",
     "text": [
      "x =  $3004.40\n"
     ]
    }
   ],
   "source": [
    "y2 = 800000\n",
    "x2 = (y2 - b0_m1)/b1_m1\n",
    "print(\"x = \", \"${:.2f}\".format(x2))"
   ]
  },
  {
   "cell_type": "markdown",
   "metadata": {},
   "source": [
    "# Question 4"
   ]
  },
  {
   "cell_type": "code",
   "execution_count": 10,
   "metadata": {},
   "outputs": [
    {
     "name": "stdout",
     "output_type": "stream",
     "text": [
      "                            OLS Regression Results                            \n",
      "==============================================================================\n",
      "Dep. Variable:                  price   R-squared:                       0.274\n",
      "Model:                            OLS   Adj. R-squared:                  0.274\n",
      "Method:                 Least Squares   F-statistic:                     6557.\n",
      "Date:                Sun, 21 May 2017   Prob (F-statistic):               0.00\n",
      "Time:                        09:33:46   Log-Likelihood:            -2.4475e+05\n",
      "No. Observations:               17384   AIC:                         4.895e+05\n",
      "Df Residuals:                   17382   BIC:                         4.895e+05\n",
      "Df Model:                           1                                         \n",
      "Covariance Type:            nonrobust                                         \n",
      "==============================================================================\n",
      "                 coef    std err          t      P>|t|      [95.0% Conf. Int.]\n",
      "------------------------------------------------------------------------------\n",
      "Intercept   9151.2217   6970.414      1.313      0.189     -4511.490  2.28e+04\n",
      "bathrooms   2.507e+05   3095.962     80.972      0.000      2.45e+05  2.57e+05\n",
      "==============================================================================\n",
      "Omnibus:                    14111.693   Durbin-Watson:                   1.968\n",
      "Prob(Omnibus):                  0.000   Jarque-Bera (JB):           751580.491\n",
      "Skew:                           3.526   Prob(JB):                         0.00\n",
      "Kurtosis:                      34.431   Cond. No.                         7.73\n",
      "==============================================================================\n",
      "\n",
      "Warnings:\n",
      "[1] Standard Errors assume that the covariance matrix of the errors is correctly specified.\n"
     ]
    }
   ],
   "source": [
    "model2 = smf.ols(formula=\"price~bathrooms\", data=data_train)\n",
    "model2_results = model2.fit()\n",
    "print(model2_results.summary())"
   ]
  },
  {
   "cell_type": "code",
   "execution_count": 11,
   "metadata": {},
   "outputs": [],
   "source": [
    "b0_m2 = model2_results.params[0]\n",
    "b1_m2 = model2_results.params[1]"
   ]
  },
  {
   "cell_type": "code",
   "execution_count": 12,
   "metadata": {},
   "outputs": [
    {
     "name": "stdout",
     "output_type": "stream",
     "text": [
      "RSS model 1 test:  2.75402933618e+14 \n",
      "RSS model 2 test:  3.84573732525e+14\n"
     ]
    }
   ],
   "source": [
    "RSS_model1_test = get_RSS(data_test[\"price\"], data_test[\"sqft_living\"],b0_m1,b1_m1)\n",
    "RSS_model2_test = get_RSS(data_test[\"price\"], data_test[\"bathrooms\"],b0_m2,b1_m2)\n",
    "print(\"RSS model 1 test: \", RSS_model1_test, \"\\nRSS model 2 test: \", RSS_model2_test)"
   ]
  },
  {
   "cell_type": "code",
   "execution_count": 21,
   "metadata": {},
   "outputs": [
    {
     "data": {
      "text/plain": [
       "275402933617813.06"
      ]
     },
     "execution_count": 21,
     "metadata": {},
     "output_type": "execute_result"
    }
   ],
   "source": [
    "sum((data_test[\"price\"]-model1_results.predict(data_test))**2)"
   ]
  },
  {
   "cell_type": "code",
   "execution_count": null,
   "metadata": {
    "collapsed": true
   },
   "outputs": [],
   "source": []
  }
 ],
 "metadata": {
  "kernelspec": {
   "display_name": "Python 3",
   "language": "python",
   "name": "python3"
  },
  "language_info": {
   "codemirror_mode": {
    "name": "ipython",
    "version": 3
   },
   "file_extension": ".py",
   "mimetype": "text/x-python",
   "name": "python",
   "nbconvert_exporter": "python",
   "pygments_lexer": "ipython3",
   "version": "3.6.4"
  }
 },
 "nbformat": 4,
 "nbformat_minor": 2
}
