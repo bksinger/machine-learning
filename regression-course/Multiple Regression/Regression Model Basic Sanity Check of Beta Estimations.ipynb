{
 "cells": [
  {
   "cell_type": "code",
   "execution_count": 26,
   "metadata": {
    "collapsed": true
   },
   "outputs": [],
   "source": [
    "from pandas.stats.api import ols\n",
    "from numpy.linalg import inv\n",
    "import numpy as np\n",
    "import pandas as pd"
   ]
  },
  {
   "cell_type": "code",
   "execution_count": 56,
   "metadata": {
    "collapsed": false
   },
   "outputs": [
    {
     "data": {
      "text/plain": [
       "array([[ 0.01222242],\n",
       "       [ 9.99597327],\n",
       "       [ 5.00050479]])"
      ]
     },
     "execution_count": 56,
     "metadata": {},
     "output_type": "execute_result"
    }
   ],
   "source": [
    "sample_size = 100000\n",
    "quality_of_practice = np.random.random_sample(sample_size)*5\n",
    "years_of_practice = np.random.random_sample(sample_size)*20\n",
    "epsilon = np.random.randn(sample_size)*2\n",
    "\n",
    "beta_0 = 0\n",
    "beta_qp = 10\n",
    "beta_yp = 5\n",
    "\n",
    "life_score = beta_0 + beta_qp*quality_of_practice + beta_yp*years_of_practice + epsilon\n",
    "X = np.array([np.ones(sample_size), quality_of_practice,years_of_practice]).transpose()\n",
    "XT = X.transpose()\n",
    "\n",
    "inv_XTX = inv(np.dot(XT,X))\n",
    "Y = np.array([life_score]).transpose()\n",
    "\n",
    "B = np.dot(np.dot(inv_XTX,XT),Y)\n",
    "B"
   ]
  },
  {
   "cell_type": "code",
   "execution_count": null,
   "metadata": {
    "collapsed": true
   },
   "outputs": [],
   "source": []
  }
 ],
 "metadata": {
  "kernelspec": {
   "display_name": "Python 2",
   "language": "python",
   "name": "python2"
  },
  "language_info": {
   "codemirror_mode": {
    "name": "ipython",
    "version": 2
   },
   "file_extension": ".py",
   "mimetype": "text/x-python",
   "name": "python",
   "nbconvert_exporter": "python",
   "pygments_lexer": "ipython2",
   "version": "2.7.13"
  }
 },
 "nbformat": 4,
 "nbformat_minor": 0
}
