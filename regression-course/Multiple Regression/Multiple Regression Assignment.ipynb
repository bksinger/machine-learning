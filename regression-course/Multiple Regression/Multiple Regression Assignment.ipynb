{
 "cells": [
  {
   "cell_type": "code",
   "execution_count": 1,
   "metadata": {
    "collapsed": false
   },
   "outputs": [],
   "source": [
    "from copy import deepcopy\n",
    "import numpy as np\n",
    "import pandas as pd\n",
    "import statsmodels.api as sm\n",
    "import statsmodels.formula.api as smf"
   ]
  },
  {
   "cell_type": "markdown",
   "metadata": {},
   "source": [
    "# A"
   ]
  },
  {
   "cell_type": "code",
   "execution_count": 2,
   "metadata": {
    "collapsed": true
   },
   "outputs": [],
   "source": [
    "def get_RSS(y, y_hat):\n",
    "    error = y - y_hat\n",
    "    RSS = sum(map(lambda x: x*x,error))\n",
    "    return RSS"
   ]
  },
  {
   "cell_type": "code",
   "execution_count": 3,
   "metadata": {
    "collapsed": false
   },
   "outputs": [],
   "source": [
    "data_full = pd.read_csv(\"kc_house_data.csv\")\n",
    "data_test = pd.read_csv(\"kc_house_test_data.csv\")\n",
    "data_train = pd.read_csv(\"kc_house_train_data.csv\")"
   ]
  },
  {
   "cell_type": "code",
   "execution_count": 4,
   "metadata": {
    "collapsed": true
   },
   "outputs": [],
   "source": [
    "data_full[\"bedrooms_squared\"] = data_full[\"bedrooms\"] * data_full[\"bedrooms\"]\n",
    "data_test[\"bedrooms_squared\"] = data_test[\"bedrooms\"] * data_test[\"bedrooms\"]\n",
    "data_train[\"bedrooms_squared\"] = data_train[\"bedrooms\"] * data_train[\"bedrooms\"]\n",
    "\n",
    "data_full[\"bed_bath_rooms\"] = data_full[\"bedrooms\"] * data_full[\"bathrooms\"]\n",
    "data_test[\"bed_bath_rooms\"] = data_test[\"bedrooms\"] * data_test[\"bathrooms\"]\n",
    "data_train[\"bed_bath_rooms\"] = data_train[\"bedrooms\"] * data_train[\"bathrooms\"]\n",
    "\n",
    "data_full[\"log_sqft_living\"] = np.log(data_full[\"sqft_living\"])\n",
    "data_test[\"log_sqft_living\"] = np.log(data_test[\"sqft_living\"])\n",
    "data_train[\"log_sqft_living\"] = np.log(data_train[\"sqft_living\"])\n",
    "\n",
    "data_full[\"lat_plus_long\"] = data_full[\"lat\"] + data_full[\"long\"]\n",
    "data_test[\"lat_plus_long\"] = data_test[\"lat\"] + data_test[\"long\"]\n",
    "data_train[\"lat_plus_long\"] = data_train[\"lat\"] + data_train[\"long\"]"
   ]
  },
  {
   "cell_type": "code",
   "execution_count": 5,
   "metadata": {
    "collapsed": false
   },
   "outputs": [
    {
     "name": "stdout",
     "output_type": "stream",
     "text": [
      "                            OLS Regression Results                            \n",
      "==============================================================================\n",
      "Dep. Variable:                  price   R-squared:                       0.593\n",
      "Model:                            OLS   Adj. R-squared:                  0.592\n",
      "Method:                 Least Squares   F-statistic:                     5056.\n",
      "Date:                Sun, 21 May 2017   Prob (F-statistic):               0.00\n",
      "Time:                        13:08:20   Log-Likelihood:            -2.3973e+05\n",
      "No. Observations:               17384   AIC:                         4.795e+05\n",
      "Df Residuals:                   17378   BIC:                         4.795e+05\n",
      "Df Model:                           5                                         \n",
      "Covariance Type:            nonrobust                                         \n",
      "===============================================================================\n",
      "                  coef    std err          t      P>|t|      [95.0% Conf. Int.]\n",
      "-------------------------------------------------------------------------------\n",
      "Intercept   -6.908e+07   1.65e+06    -41.940      0.000     -7.23e+07 -6.58e+07\n",
      "sqft_living   312.2586      3.183     98.097      0.000       306.019   318.498\n",
      "bedrooms    -5.959e+04   2482.861    -23.999      0.000     -6.45e+04 -5.47e+04\n",
      "bathrooms    1.571e+04   3587.158      4.379      0.000      8675.552  2.27e+04\n",
      "lat          6.586e+05   1.31e+04     50.286      0.000      6.33e+05  6.84e+05\n",
      "long        -3.094e+05   1.33e+04    -23.331      0.000     -3.35e+05 -2.83e+05\n",
      "==============================================================================\n",
      "Omnibus:                    12962.917   Durbin-Watson:                   2.008\n",
      "Prob(Omnibus):                  0.000   Jarque-Bera (JB):           615844.364\n",
      "Skew:                           3.114   Prob(JB):                         0.00\n",
      "Kurtosis:                      31.486   Cond. No.                     2.10e+06\n",
      "==============================================================================\n",
      "\n",
      "Warnings:\n",
      "[1] Standard Errors assume that the covariance matrix of the errors is correctly specified.\n",
      "[2] The condition number is large, 2.1e+06. This might indicate that there are\n",
      "strong multicollinearity or other numerical problems.\n",
      "                            OLS Regression Results                            \n",
      "==============================================================================\n",
      "Dep. Variable:                  price   R-squared:                       0.597\n",
      "Model:                            OLS   Adj. R-squared:                  0.596\n",
      "Method:                 Least Squares   F-statistic:                     4283.\n",
      "Date:                Sun, 21 May 2017   Prob (F-statistic):               0.00\n",
      "Time:                        13:08:20   Log-Likelihood:            -2.3965e+05\n",
      "No. Observations:               17384   AIC:                         4.793e+05\n",
      "Df Residuals:                   17377   BIC:                         4.794e+05\n",
      "Df Model:                           6                                         \n",
      "Covariance Type:            nonrobust                                         \n",
      "==================================================================================\n",
      "                     coef    std err          t      P>|t|      [95.0% Conf. Int.]\n",
      "----------------------------------------------------------------------------------\n",
      "Intercept      -6.687e+07   1.65e+06    -40.584      0.000     -7.01e+07 -6.36e+07\n",
      "sqft_living      306.6101      3.197     95.909      0.000       300.344   312.876\n",
      "bedrooms       -1.134e+05   4797.612    -23.646      0.000     -1.23e+05 -1.04e+05\n",
      "bathrooms      -7.146e+04   7552.563     -9.462      0.000     -8.63e+04 -5.67e+04\n",
      "lat             6.548e+05    1.3e+04     50.230      0.000      6.29e+05   6.8e+05\n",
      "long           -2.943e+05   1.32e+04    -22.218      0.000      -3.2e+05 -2.68e+05\n",
      "bed_bath_rooms  2.558e+04   1953.134     13.097      0.000      2.18e+04  2.94e+04\n",
      "==============================================================================\n",
      "Omnibus:                    12343.124   Durbin-Watson:                   2.010\n",
      "Prob(Omnibus):                  0.000   Jarque-Bera (JB):           533516.100\n",
      "Skew:                           2.916   Prob(JB):                         0.00\n",
      "Kurtosis:                      29.506   Cond. No.                     2.11e+06\n",
      "==============================================================================\n",
      "\n",
      "Warnings:\n",
      "[1] Standard Errors assume that the covariance matrix of the errors is correctly specified.\n",
      "[2] The condition number is large, 2.11e+06. This might indicate that there are\n",
      "strong multicollinearity or other numerical problems.\n",
      "                            OLS Regression Results                            \n",
      "==============================================================================\n",
      "Dep. Variable:                  price   R-squared:                       0.620\n",
      "Model:                            OLS   Adj. R-squared:                  0.620\n",
      "Method:                 Least Squares   F-statistic:                     3539.\n",
      "Date:                Sun, 21 May 2017   Prob (F-statistic):               0.00\n",
      "Time:                        13:08:20   Log-Likelihood:            -2.3913e+05\n",
      "No. Observations:               17384   AIC:                         4.783e+05\n",
      "Df Residuals:                   17375   BIC:                         4.784e+05\n",
      "Df Model:                           8                                         \n",
      "Covariance Type:            nonrobust                                         \n",
      "====================================================================================\n",
      "                       coef    std err          t      P>|t|      [95.0% Conf. Int.]\n",
      "------------------------------------------------------------------------------------\n",
      "Intercept        -6.204e+07   1.61e+06    -38.449      0.000     -6.52e+07 -5.89e+07\n",
      "sqft_living        529.4228      7.691     68.836      0.000       514.348   544.498\n",
      "bedrooms          3.451e+04   9385.891      3.677      0.000      1.61e+04  5.29e+04\n",
      "bathrooms         6.706e+04   1.08e+04      6.219      0.000      4.59e+04  8.82e+04\n",
      "lat               5.341e+05   8907.125     59.962      0.000      5.17e+05  5.52e+05\n",
      "long             -4.068e+05   9007.995    -45.154      0.000     -4.24e+05 -3.89e+05\n",
      "bed_bath_rooms   -8570.5044   2855.965     -3.001      0.003     -1.42e+04 -2972.526\n",
      "bedrooms_squared -6788.5867   1493.406     -4.546      0.000     -9715.813 -3861.360\n",
      "log_sqft_living  -5.618e+05   1.75e+04    -32.014      0.000     -5.96e+05 -5.27e+05\n",
      "lat_plus_long     1.273e+05   6450.344     19.741      0.000      1.15e+05   1.4e+05\n",
      "==============================================================================\n",
      "Omnibus:                    10094.582   Durbin-Watson:                   2.005\n",
      "Prob(Omnibus):                  0.000   Jarque-Bera (JB):           319322.176\n",
      "Skew:                           2.240   Prob(JB):                         0.00\n",
      "Kurtosis:                      23.513   Cond. No.                     1.87e+17\n",
      "==============================================================================\n",
      "\n",
      "Warnings:\n",
      "[1] Standard Errors assume that the covariance matrix of the errors is correctly specified.\n",
      "[2] The smallest eigenvalue is 2.58e-24. This might indicate that there are\n",
      "strong multicollinearity problems or that the design matrix is singular.\n"
     ]
    }
   ],
   "source": [
    "model1 = smf.ols(\"price ~ sqft_living + bedrooms + bathrooms + lat + long\", data = data_train)\n",
    "model1_results = model1.fit()\n",
    "print(model1_results.summary())\n",
    "\n",
    "model2 = smf.ols(\"price ~ sqft_living + bedrooms + bathrooms + lat + long + bed_bath_rooms\", data = data_train)\n",
    "model2_results = model2.fit()\n",
    "print(model2_results.summary())\n",
    "\n",
    "model3 = smf.ols(\"price ~ sqft_living + bedrooms + bathrooms + lat + long + bed_bath_rooms\" +\n",
    "                 \"+ bedrooms_squared + log_sqft_living + lat_plus_long\", data = data_train)\n",
    "model3_results = model3.fit()\n",
    "print(model3_results.summary())"
   ]
  },
  {
   "cell_type": "markdown",
   "metadata": {},
   "source": [
    "# Question a1: What is the mean value (arithmetic average) of the 'bedrooms_squared' feature on TEST data? (round to 2 decimal places) "
   ]
  },
  {
   "cell_type": "code",
   "execution_count": 6,
   "metadata": {
    "collapsed": false
   },
   "outputs": [
    {
     "data": {
      "text/plain": [
       "'12.45'"
      ]
     },
     "execution_count": 6,
     "metadata": {},
     "output_type": "execute_result"
    }
   ],
   "source": [
    "\"{:.2f}\".format(np.average(data_test[\"bedrooms_squared\"]))"
   ]
  },
  {
   "cell_type": "markdown",
   "metadata": {},
   "source": [
    "# Question a2: What is the mean value (arithmetic average) of the 'bed_bath_rooms' feature on TEST data? (round to 2 decimal places) "
   ]
  },
  {
   "cell_type": "code",
   "execution_count": 7,
   "metadata": {
    "collapsed": false
   },
   "outputs": [
    {
     "data": {
      "text/plain": [
       "'7.50'"
      ]
     },
     "execution_count": 7,
     "metadata": {},
     "output_type": "execute_result"
    }
   ],
   "source": [
    "\"{:.2f}\".format(np.average(data_test[\"bed_bath_rooms\"]))"
   ]
  },
  {
   "cell_type": "markdown",
   "metadata": {},
   "source": [
    "# Question a3: What is the mean value (arithmetic average) of the 'log_sqft_living' feature on TEST data? (round to 2 decimal places) "
   ]
  },
  {
   "cell_type": "code",
   "execution_count": 8,
   "metadata": {
    "collapsed": false
   },
   "outputs": [
    {
     "data": {
      "text/plain": [
       "'7.55'"
      ]
     },
     "execution_count": 8,
     "metadata": {},
     "output_type": "execute_result"
    }
   ],
   "source": [
    "\"{:.2f}\".format(np.average(data_test[\"log_sqft_living\"]))"
   ]
  },
  {
   "cell_type": "markdown",
   "metadata": {},
   "source": [
    "# Question a4: What is the mean value (arithmetic average) of the 'lat_plus_long' feature on TEST data? (round to 2 decimal places)"
   ]
  },
  {
   "cell_type": "code",
   "execution_count": 9,
   "metadata": {
    "collapsed": false
   },
   "outputs": [
    {
     "data": {
      "text/plain": [
       "'-74.65'"
      ]
     },
     "execution_count": 9,
     "metadata": {},
     "output_type": "execute_result"
    }
   ],
   "source": [
    "\"{:.2f}\".format(np.average(data_test[\"lat_plus_long\"]))"
   ]
  },
  {
   "cell_type": "markdown",
   "metadata": {},
   "source": [
    "# Question a5: What is the sign (positive or negative) for the coefficient/weight for 'bathrooms' in model 1?"
   ]
  },
  {
   "cell_type": "code",
   "execution_count": 10,
   "metadata": {
    "collapsed": false
   },
   "outputs": [
    {
     "name": "stdout",
     "output_type": "stream",
     "text": [
      "+\n"
     ]
    }
   ],
   "source": [
    "if model1_results.params[\"bathrooms\"] > 0:\n",
    "    print(\"+\")\n",
    "elif model1_results.params[\"bathrooms\"] < 0:\n",
    "    print(\"-\")\n",
    "else:\n",
    "    print(\"0\")"
   ]
  },
  {
   "cell_type": "markdown",
   "metadata": {},
   "source": [
    "# Question a6: What is the sign (positive or negative) for the coefficient/weight for 'bathrooms' in model 2?"
   ]
  },
  {
   "cell_type": "code",
   "execution_count": 11,
   "metadata": {
    "collapsed": false
   },
   "outputs": [
    {
     "name": "stdout",
     "output_type": "stream",
     "text": [
      "-\n"
     ]
    }
   ],
   "source": [
    "if model2_results.params[\"bathrooms\"] > 0:\n",
    "    print(\"+\")\n",
    "elif model2_results.params[\"bathrooms\"] < 0:\n",
    "    print(\"-\")\n",
    "else:\n",
    "    print(\"0\")"
   ]
  },
  {
   "cell_type": "markdown",
   "metadata": {},
   "source": [
    "# Question a7: Which model (1, 2 or 3) has lowest RSS on TRAINING Data?"
   ]
  },
  {
   "cell_type": "code",
   "execution_count": 12,
   "metadata": {
    "collapsed": false
   },
   "outputs": [
    {
     "name": "stdout",
     "output_type": "stream",
     "text": [
      "Model 1: RSS_train 9.6787996305e+14\n",
      "Model 2: RSS_train 9.58419635074e+14\n",
      "Model 3: RSS_train 9.0343645505e+14\n",
      "Minimum RSS for training data is Model 3\n"
     ]
    }
   ],
   "source": [
    "RSS_m1_train = sum((model1_results.resid**2))\n",
    "RSS_m2_train = sum((model2_results.resid**2))\n",
    "RSS_m3_train = sum((model3_results.resid**2))\n",
    "\n",
    "print(\"Model 1: RSS_train\", RSS_m1_train)\n",
    "print(\"Model 2: RSS_train\", RSS_m2_train)\n",
    "print(\"Model 3: RSS_train\", RSS_m3_train)\n",
    "\n",
    "if RSS_m1_train < RSS_m2_train and RSS_m2_train < RSS_m3_train:\n",
    "    print(\"Minimum RSS for training data is Model 1\")\n",
    "    \n",
    "elif RSS_m1_train < RSS_m2_train and RSS_m2_train >= RSS_m3_train:\n",
    "    if RSS_m1_train < RSS_m3_train:\n",
    "        print(\"Minimum RSS for training data is Model 1\")\n",
    "    else:\n",
    "        print(\"Minimum RSS for training data is Model 3\")\n",
    "elif RSS_m1_train >= RSS_m2_train and RSS_m2_train < RSS_m3_train:\n",
    "    print(\"Minimum RSS for training data is Model 2\")\n",
    "else:\n",
    "    print(\"Minimum RSS for training data is Model 3\")"
   ]
  },
  {
   "cell_type": "markdown",
   "metadata": {},
   "source": [
    "# Question a8: Which model (1, 2 or 3) has lowest RSS on TESTING Data?"
   ]
  },
  {
   "cell_type": "code",
   "execution_count": 13,
   "metadata": {
    "collapsed": false
   },
   "outputs": [
    {
     "name": "stdout",
     "output_type": "stream",
     "text": [
      "Model 1: RSS_test 2.25500469795e+14\n",
      "Model 2: RSS_test 2.23377462976e+14\n",
      "Model 3: RSS_test 2.59236319207e+14\n",
      "Minimum RSS for training data is Model 2\n"
     ]
    }
   ],
   "source": [
    "RSS_m1_test = get_RSS(data_test[\"price\"], model1_results.predict(data_test))\n",
    "RSS_m2_test = get_RSS(data_test[\"price\"], model2_results.predict(data_test))\n",
    "RSS_m3_test = get_RSS(data_test[\"price\"], model3_results.predict(data_test))\n",
    "\n",
    "print(\"Model 1: RSS_test\", RSS_m1_test)\n",
    "print(\"Model 2: RSS_test\", RSS_m2_test)\n",
    "print(\"Model 3: RSS_test\", RSS_m3_test)\n",
    "\n",
    "if RSS_m1_test < RSS_m2_test and RSS_m2_test < RSS_m3_test:\n",
    "    print(\"Minimum RSS for training data is Model 1\")\n",
    "    \n",
    "elif RSS_m1_test < RSS_m2_test and RSS_m2_test >= RSS_m3_test:\n",
    "    if RSS_m1_test < RSS_m3_test:\n",
    "        print(\"Minimum RSS for training data is Model 1\")\n",
    "    else:\n",
    "        print(\"Minimum RSS for training data is Model 3\")\n",
    "elif RSS_m1_test >= RSS_m2_test and RSS_m2_test < RSS_m3_test:\n",
    "    print(\"Minimum RSS for training data is Model 2\")\n",
    "else:\n",
    "    print(\"Minimum RSS for training data is Model 3\")"
   ]
  },
  {
   "cell_type": "markdown",
   "metadata": {},
   "source": [
    "# B"
   ]
  },
  {
   "cell_type": "code",
   "execution_count": 43,
   "metadata": {
    "collapsed": true
   },
   "outputs": [],
   "source": [
    "def get_numpy_data(data,features,output):\n",
    "    data[\"constant\"] = 1\n",
    "    features_matrix = data[\"constant\"]\n",
    "    for i in features:\n",
    "        features_matrix = pd.concat([features_matrix,data[i]], axis=1)\n",
    "\n",
    "    features_matrix = np.matrix(features_matrix)\n",
    "    \n",
    "    output_array = np.transpose(np.matrix(data[output])) # Transpose is used to create a column vector\n",
    "    return (features_matrix, output_array)"
   ]
  },
  {
   "cell_type": "code",
   "execution_count": 44,
   "metadata": {
    "collapsed": true
   },
   "outputs": [],
   "source": [
    "def predict_outcome(feature_matrix, weights):\n",
    "    predictions = np.dot(feature_matrix, weights)\n",
    "    return predictions"
   ]
  },
  {
   "cell_type": "code",
   "execution_count": 55,
   "metadata": {
    "collapsed": true
   },
   "outputs": [],
   "source": [
    "def regression_gradient_descent(feature_matrix, output, initial_weights, step_size, tolerance):\n",
    "    weights = deepcopy(initial_weights)\n",
    "\n",
    "    converged = False\n",
    "\n",
    "    while not converged:\n",
    "        output_estimate = predict_outcome(feature_matrix, weights)\n",
    "        gradient_sum_squares = 0\n",
    "        derivative = -2 * np.dot(np.transpose(feature_matrix),output-output_estimate)\n",
    "        for i in range(0,len(weights)):  \n",
    "            gradient_sum_squares = gradient_sum_squares + derivative[i] * derivative[i]\n",
    "            weights[i] = weights[i] - step_size * derivative[i]\n",
    "\n",
    "        if np.sqrt(gradient_sum_squares) < tolerance:\n",
    "                converged = True\n",
    "    return weights"
   ]
  },
  {
   "cell_type": "code",
   "execution_count": 56,
   "metadata": {
    "collapsed": true
   },
   "outputs": [],
   "source": [
    "def regression_gradient_descent2(feature_matrix, output, initial_weights, step_size, tolerance):\n",
    "    weights = deepcopy(initial_weights)\n",
    "\n",
    "    converged = False\n",
    "    while not converged:\n",
    "        output_estimate = predict_outcome(feature_matrix, weights)\n",
    "\n",
    "        weight_update_change = weights\n",
    "        derivative = -2 * np.dot(np.transpose(feature_matrix),output-output_estimate)\n",
    "        weights = weights - step_size * derivative\n",
    "        weight_update_change -= weights\n",
    "\n",
    "        weight_update_change = np.squeeze(np.asarray(weight_update_change)) # Ensure that variables is read as an array\n",
    "        weight_update_change_sum_squared = sum(weight_update_change**2)\n",
    "        if weight_update_change_sum_squared < tolerance:\n",
    "                converged = True\n",
    "    return weights"
   ]
  },
  {
   "cell_type": "code",
   "execution_count": 57,
   "metadata": {
    "collapsed": false
   },
   "outputs": [
    {
     "data": {
      "text/plain": [
       "array([[-46999.88716555],\n",
       "       [   281.91211918]])"
      ]
     },
     "execution_count": 57,
     "metadata": {},
     "output_type": "execute_result"
    }
   ],
   "source": [
    "data = deepcopy(data_train)\n",
    "simple_features = [\"sqft_living\"]\n",
    "my_output = \"price\"\n",
    "(simple_feature_matrix, output) = get_numpy_data(data_train, simple_features, my_output)\n",
    "initial_weights = np.array([[-47000.], [1.]])\n",
    "step_size = 7e-12\n",
    "tolerance = 2.5e7\n",
    "simple_weights = regression_gradient_descent(simple_feature_matrix,\n",
    "                                             output, initial_weights, step_size, tolerance)\n",
    "simple_weights"
   ]
  },
  {
   "cell_type": "code",
   "execution_count": 58,
   "metadata": {
    "collapsed": false
   },
   "outputs": [
    {
     "data": {
      "text/plain": [
       "array([[ -9.99999688e+04],\n",
       "       [  2.45072603e+02],\n",
       "       [  6.52795267e+01]])"
      ]
     },
     "execution_count": 58,
     "metadata": {},
     "output_type": "execute_result"
    }
   ],
   "source": [
    "model_features = [\"sqft_living\", \"sqft_living15\"]\n",
    "my_output = \"price\"\n",
    "(feature_matrix, output) = get_numpy_data(data_train, model_features,my_output)\n",
    "initial_weights = np.array([[-100000.], [1.], [1.]])\n",
    "step_size = 4e-12\n",
    "tolerance = 1e9\n",
    "model_weights = regression_gradient_descent(feature_matrix,\n",
    "                                             output, initial_weights, step_size, tolerance)\n",
    "model_weights"
   ]
  },
  {
   "cell_type": "markdown",
   "metadata": {},
   "source": [
    "# Question B1: What is the value of the weight for sqft_living from your gradient descent predicting house prices (model 1)? Round your answer to 1 decimal place."
   ]
  },
  {
   "cell_type": "code",
   "execution_count": 59,
   "metadata": {
    "collapsed": false
   },
   "outputs": [
    {
     "data": {
      "text/plain": [
       "'281.9'"
      ]
     },
     "execution_count": 59,
     "metadata": {},
     "output_type": "execute_result"
    }
   ],
   "source": [
    "\"{:.1f}\".format(np.squeeze(np.asarray(simple_weights))[1])"
   ]
  },
  {
   "cell_type": "markdown",
   "metadata": {},
   "source": [
    "# Question B2: What is the predicted price for the 1st house in the TEST data set for model 1 (round to nearest dollar)?"
   ]
  },
  {
   "cell_type": "code",
   "execution_count": 60,
   "metadata": {
    "collapsed": false
   },
   "outputs": [
    {
     "data": {
      "text/plain": [
       "'356134'"
      ]
     },
     "execution_count": 60,
     "metadata": {},
     "output_type": "execute_result"
    }
   ],
   "source": [
    "data = deepcopy(data_test)\n",
    "features = simple_features\n",
    "my_output = \"price\"\n",
    "(feature_matrix, output) = get_numpy_data(data,features,my_output)\n",
    "weights = simple_weights\n",
    "simple_predictions = np.squeeze(np.asarray(predict_outcome(feature_matrix, weights)))\n",
    "\"{:.0f}\".format(simple_predictions[0])"
   ]
  },
  {
   "cell_type": "markdown",
   "metadata": {},
   "source": [
    "# Question B3: What is the predicted price for the 1st house in the TEST data set for model 2 (round to nearest dollar)?"
   ]
  },
  {
   "cell_type": "code",
   "execution_count": 61,
   "metadata": {
    "collapsed": false
   },
   "outputs": [
    {
     "data": {
      "text/plain": [
       "'366651'"
      ]
     },
     "execution_count": 61,
     "metadata": {},
     "output_type": "execute_result"
    }
   ],
   "source": [
    "data = deepcopy(data_test)\n",
    "features = model_features\n",
    "my_output = \"price\"\n",
    "(feature_matrix, output) = get_numpy_data(data,features,my_output)\n",
    "weights = model_weights\n",
    "model_predictions = np.squeeze(np.asarray(predict_outcome(feature_matrix, weights)))\n",
    "\"{:.0f}\".format(model_predictions[0])"
   ]
  },
  {
   "cell_type": "markdown",
   "metadata": {},
   "source": [
    "# Question B4: Which estimate was closer to the true price for the 1st house on the TEST data set, model 1 or model 2? "
   ]
  },
  {
   "cell_type": "code",
   "execution_count": 62,
   "metadata": {
    "collapsed": false
   },
   "outputs": [
    {
     "name": "stdout",
     "output_type": "stream",
     "text": [
      "simple_abs_diff:  46134.443255\n",
      "model_abs_diff:  56651.4116295\n",
      "Model 1\n"
     ]
    }
   ],
   "source": [
    "simple_abs_diff = abs(data_test[\"price\"][0]- simple_predictions[0])\n",
    "model_abs_diff = abs(data_test[\"price\"][0]- model_predictions[0])\n",
    "print(\"simple_abs_diff: \", simple_abs_diff)\n",
    "print(\"model_abs_diff: \", model_abs_diff)\n",
    "if simple_abs_diff <= model_abs_diff:\n",
    "    print(\"Model 1\")\n",
    "else:\n",
    "    print(\"Model 2\")"
   ]
  },
  {
   "cell_type": "markdown",
   "metadata": {},
   "source": [
    "# Question B5: Which model (1 or 2) has lowest RSS on all of the TEST data?"
   ]
  },
  {
   "cell_type": "code",
   "execution_count": 63,
   "metadata": {
    "collapsed": false
   },
   "outputs": [
    {
     "name": "stdout",
     "output_type": "stream",
     "text": [
      "simple_RSS:  2.75400044902e+14\n",
      "model_RSS:  2.7026344363e+14\n",
      "Model 2\n"
     ]
    }
   ],
   "source": [
    "simple_resid = simple_predictions - data_test[\"price\"]\n",
    "simple_RSS = sum(simple_resid**2)\n",
    "model_resid = model_predictions - data_test[\"price\"]\n",
    "model_RSS = sum(model_resid**2)\n",
    "print(\"simple_RSS: \", simple_RSS)\n",
    "print(\"model_RSS: \", model_RSS)\n",
    "if simple_RSS <= model_RSS:\n",
    "    print(\"Model 1\")\n",
    "else:\n",
    "    print(\"Model 2\")"
   ]
  },
  {
   "cell_type": "code",
   "execution_count": null,
   "metadata": {
    "collapsed": true
   },
   "outputs": [],
   "source": []
  },
  {
   "cell_type": "code",
   "execution_count": null,
   "metadata": {
    "collapsed": true
   },
   "outputs": [],
   "source": []
  }
 ],
 "metadata": {
  "kernelspec": {
   "display_name": "Python 3",
   "language": "python",
   "name": "python3"
  },
  "language_info": {
   "codemirror_mode": {
    "name": "ipython",
    "version": 3
   },
   "file_extension": ".py",
   "mimetype": "text/x-python",
   "name": "python",
   "nbconvert_exporter": "python",
   "pygments_lexer": "ipython3",
   "version": "3.6.0"
  }
 },
 "nbformat": 4,
 "nbformat_minor": 2
}
