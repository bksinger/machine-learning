{
 "cells": [
  {
   "cell_type": "code",
   "execution_count": 1,
   "metadata": {},
   "outputs": [],
   "source": [
    "from copy import deepcopy\n",
    "from numpy.linalg import inv, norm\n",
    "from sklearn import datasets\n",
    "from sklearn.datasets import make_regression\n",
    "from sklearn import linear_model\n",
    "import numpy as np\n",
    "import pandas as pd"
   ]
  },
  {
   "cell_type": "code",
   "execution_count": 2,
   "metadata": {},
   "outputs": [],
   "source": [
    "diabetes = datasets.load_diabetes()\n",
    "diabetes_X = diabetes.data[:, np.newaxis, 2]\n",
    "diabetes_Y = diabetes.target.reshape((diabetes_X.shape[0], 1))"
   ]
  },
  {
   "cell_type": "markdown",
   "metadata": {},
   "source": [
    "### Standard regression (No Regularization)"
   ]
  },
  {
   "cell_type": "code",
   "execution_count": 3,
   "metadata": {},
   "outputs": [
    {
     "data": {
      "text/plain": [
       "(array([152.13348416]), array([[949.43526038]]))"
      ]
     },
     "execution_count": 3,
     "metadata": {},
     "output_type": "execute_result"
    }
   ],
   "source": [
    "reg = linear_model.LinearRegression()\n",
    "reg.fit (diabetes_X, diabetes_Y)\n",
    "reg.intercept_, reg.coef_"
   ]
  },
  {
   "cell_type": "code",
   "execution_count": 4,
   "metadata": {},
   "outputs": [],
   "source": [
    "diabetes_X_all = np.concatenate((np.ones((diabetes_X.shape[0], 1)), diabetes_X), axis=1)"
   ]
  },
  {
   "cell_type": "code",
   "execution_count": 5,
   "metadata": {},
   "outputs": [
    {
     "data": {
      "text/plain": [
       "array([[152.13348416],\n",
       "       [949.43526038]])"
      ]
     },
     "execution_count": 5,
     "metadata": {},
     "output_type": "execute_result"
    }
   ],
   "source": [
    "#Closed form\n",
    "betas_cf = inv(diabetes_X_all.T @ diabetes_X_all) @ diabetes_X_all.T @ diabetes_Y\n",
    "betas_cf"
   ]
  },
  {
   "cell_type": "code",
   "execution_count": 6,
   "metadata": {},
   "outputs": [
    {
     "name": "stdout",
     "output_type": "stream",
     "text": [
      "Achieved convergence at iteration  22962\n"
     ]
    },
    {
     "data": {
      "text/plain": [
       "array([[152.13348416],\n",
       "       [949.43526028]])"
      ]
     },
     "execution_count": 6,
     "metadata": {},
     "output_type": "execute_result"
    }
   ],
   "source": [
    "#Gradient descent\n",
    "eta = 0.001\n",
    "iter_max = 100000\n",
    "beta = np.random.randn(diabetes_X_all.shape[1],1)\n",
    "\n",
    "tolerance = 1e-10\n",
    "for i in range(iter_max):\n",
    "    beta_old = deepcopy(beta)\n",
    "    beta += eta*diabetes_X_all.T @ (diabetes_Y - diabetes_X_all @ beta)\n",
    "    \n",
    "    if norm(beta-beta_old) < tolerance:\n",
    "        print(\"Achieved convergence at iteration \", i)\n",
    "        break\n",
    "\n",
    "beta"
   ]
  },
  {
   "cell_type": "markdown",
   "metadata": {},
   "source": [
    "### Standard regression (Regularization)"
   ]
  },
  {
   "cell_type": "code",
   "execution_count": 7,
   "metadata": {},
   "outputs": [
    {
     "data": {
      "text/plain": [
       "(1.9021228843501663, array([15.60966377, 54.01512998]))"
      ]
     },
     "execution_count": 7,
     "metadata": {},
     "output_type": "execute_result"
    }
   ],
   "source": [
    "X, y = make_regression(n_features=2, random_state=0)\n",
    "lambda_1 = 0.5\n",
    "lambda_2 = 0.4\n",
    "alpha = lambda_1 + 2*lambda_2\n",
    "l1_ratio = lambda_1 / alpha\n",
    "\n",
    "rege = linear_model.ElasticNet(alpha=alpha,l1_ratio=l1_ratio,random_state=0)#As we shall see,\n",
    "#algorithms below are better\n",
    "rege.fit(X, y)\n",
    "rege.intercept_, rege.coef_"
   ]
  },
  {
   "cell_type": "code",
   "execution_count": 8,
   "metadata": {},
   "outputs": [
    {
     "data": {
      "text/plain": [
       "44.94897727346183"
      ]
     },
     "execution_count": 8,
     "metadata": {},
     "output_type": "execute_result"
    }
   ],
   "source": [
    "y_hat = rege.predict(X)\n",
    "rmse = np.sqrt(np.sum((y-y_hat)**2)/len(y))\n",
    "rmse"
   ]
  },
  {
   "cell_type": "code",
   "execution_count": 9,
   "metadata": {},
   "outputs": [
    {
     "name": "stdout",
     "output_type": "stream",
     "text": [
      "Achieved convergence at iteration  14\n"
     ]
    },
    {
     "data": {
      "text/plain": [
       "array([[1.47645526e-02],\n",
       "       [2.90909233e+01],\n",
       "       [9.58212956e+01]])"
      ]
     },
     "execution_count": 9,
     "metadata": {},
     "output_type": "execute_result"
    }
   ],
   "source": [
    "#Coordinate descent\n",
    "X_all = np.concatenate((np.ones((X.shape[0], 1)), X), axis=1)\n",
    "n, m = X_all.shape\n",
    "beta = np.random.randn(m,1)\n",
    "iter_max = 20\n",
    "tolerance = 1e-10\n",
    "\n",
    "for t in range(iter_max):\n",
    "    beta_old = deepcopy(beta)\n",
    "    for j in range(m):\n",
    "        rho_j = 0\n",
    "        z_j = np.dot(X_all[:,j],X_all[:,j])\n",
    "        for i in range(n):\n",
    "            rho_j += (y[i] - (X_all[i,:] @ beta_old - X_all[i,j] * beta_old[j]))*X_all[i,j]\n",
    "\n",
    "        if rho_j < -lambda_1/2:\n",
    "            beta[j] = (rho_j + lambda_1/2)/(z_j + lambda_2)\n",
    "        elif rho_j >= -lambda_1/2 and rho_j <= lambda_1/2:\n",
    "            beta[j] = 0\n",
    "        else:\n",
    "            beta[j] = (rho_j - lambda_1/2)/(z_j + lambda_2)\n",
    "    \n",
    "    if norm(beta-beta_old) < tolerance:\n",
    "        print(\"Achieved convergence at iteration \", t)\n",
    "        break\n",
    "\n",
    "beta"
   ]
  },
  {
   "cell_type": "code",
   "execution_count": 10,
   "metadata": {},
   "outputs": [
    {
     "data": {
      "text/plain": [
       "0.39790094956906014"
      ]
     },
     "execution_count": 10,
     "metadata": {},
     "output_type": "execute_result"
    }
   ],
   "source": [
    "rmse = 0\n",
    "y_hat = np.zeros(y.shape)\n",
    "for i in range(n):\n",
    "    y_hat[i] = X_all[i,:]@beta\n",
    "\n",
    "rmse = np.sqrt(np.sum((y-y_hat)**2)/len(y))\n",
    "rmse"
   ]
  },
  {
   "cell_type": "code",
   "execution_count": 11,
   "metadata": {},
   "outputs": [
    {
     "name": "stdout",
     "output_type": "stream",
     "text": [
      "Achieved convergence at iteration  127\n"
     ]
    },
    {
     "data": {
      "text/plain": [
       "array([[1.47645529e-02],\n",
       "       [2.90909233e+01],\n",
       "       [9.58212956e+01]])"
      ]
     },
     "execution_count": 11,
     "metadata": {},
     "output_type": "execute_result"
    }
   ],
   "source": [
    "#Gradient descent\n",
    "eta = 0.001\n",
    "iter_max = 1000\n",
    "tolerance = 1e-10\n",
    "beta = np.random.randn(m,1)\n",
    "\n",
    "for t in range(iter_max):\n",
    "    beta_old = deepcopy(beta)\n",
    "    for j in range(m):\n",
    "        dbeta_j = 0\n",
    "        \n",
    "        rho_j = 0\n",
    "        z_j = np.dot(X_all[:,j],X_all[:,j])\n",
    "        for i in range(n):\n",
    "            rho_j += (y[i] - (X_all[i,:] @ beta_old - X_all[i,j] * beta_old[j]))*X_all[i,j]\n",
    "        if beta[j] < 0:\n",
    "            dbeta_j = -2*rho_j + 2*beta[j]*z_j - lambda_1 + 2*lambda_2*beta[j]\n",
    "        elif beta[j] == 0:#a + random*(b-a)\n",
    "            dbeta_j = (-2*rho_j - lambda_1) + (np.random.rand()*(2*lambda_1))\n",
    "        else:\n",
    "            dbeta_j = -2*rho_j + 2*beta[j]*z_j + lambda_1 + 2*lambda_2*beta[j]\n",
    "        \n",
    "        beta[j] -= eta*dbeta_j\n",
    "    \n",
    "    if norm(beta-beta_old) < tolerance:\n",
    "        print(\"Achieved convergence at iteration \", t)\n",
    "        break\n",
    "\n",
    "beta"
   ]
  },
  {
   "cell_type": "code",
   "execution_count": 12,
   "metadata": {},
   "outputs": [
    {
     "data": {
      "text/plain": [
       "0.3979009496956956"
      ]
     },
     "execution_count": 12,
     "metadata": {},
     "output_type": "execute_result"
    }
   ],
   "source": [
    "rmse = 0\n",
    "y_hat = np.zeros(y.shape)\n",
    "for i in range(n):\n",
    "    y_hat[i] = X_all[i,:]@beta\n",
    "\n",
    "rmse = np.sqrt(np.sum((y-y_hat)**2)/len(y))\n",
    "rmse"
   ]
  }
 ],
 "metadata": {
  "kernelspec": {
   "display_name": "Python 3",
   "language": "python",
   "name": "python3"
  },
  "language_info": {
   "codemirror_mode": {
    "name": "ipython",
    "version": 3
   },
   "file_extension": ".py",
   "mimetype": "text/x-python",
   "name": "python",
   "nbconvert_exporter": "python",
   "pygments_lexer": "ipython3",
   "version": "3.6.4"
  }
 },
 "nbformat": 4,
 "nbformat_minor": 2
}
